{
 "cells": [
  {
   "cell_type": "markdown",
   "metadata": {},
   "source": [
    "## Weighted Features"
   ]
  },
  {
   "cell_type": "markdown",
   "metadata": {},
   "source": [
    "## Problem Setting\n",
    "Given a Linear Regression Model, feature data $X$ and target $y$ tell, how will the predictions of Linear Regression model change if you multiply columns of $X$ by some constant values $\\vec{c}$."
   ]
  },
  {
   "cell_type": "markdown",
   "metadata": {},
   "source": [
    "## Solution\n"
   ]
  },
  {
   "cell_type": "markdown",
   "metadata": {},
   "source": [
    "### 1. $ \\text{argmax} (\\vec{y} - X\\vec{w})^2$"
   ]
  },
  {
   "cell_type": "markdown",
   "metadata": {},
   "source": [
    "$$\n",
    "\\nabla_{\\vec{w}} (\\vec{y} - X\\vec{w})^2 = \\nabla_{\\vec{w}} \\big[(\\vec{y} - X\\vec{w})^T (\\vec{y} - X\\vec{w}) \\big] = \\nabla_{\\vec{w}} ( \\vec{y}^T\\vec{y} + \\vec{w}X^TX\\vec{w} - 2 \\vec{w}X^T\\vec{y}) = 2(X^TX)\\vec{w}-2X^T\\vec{y} \\\\\n",
    "\\; \\\\\n",
    "\\Downarrow \\\\\n",
    "\\; \\\\\n",
    "\\vec{w}_{ML} = (X^TX)^{-1}X^T\\vec{y}\n",
    "$$"
   ]
  },
  {
   "cell_type": "markdown",
   "metadata": {},
   "source": [
    "### 2. $ \\text{argmax} (\\vec{y} - XC\\vec{w})^2$"
   ]
  },
  {
   "cell_type": "markdown",
   "metadata": {},
   "source": [
    "For new feature matrix $X = XC$, where $C=\\text{diag}(\\vec{c})$ :\n",
    "$$\n",
    "\\hat{\\vec{w}}_{ML} = \\big( (XC)^T(XC) \\big)^{-1} (XC)^T\\vec{y} = // C^T = C, \\; (AB)^T = B^TA^T // = \\big( C(X^TX) C \\big)^{-1} CX^T \\vec{y} = // (AB)^{-1} = B^{-1}A^{-1} // = \\\\\n",
    "\\; \\\\\n",
    "=C^{-1} (X^TX)^{-1} C^{-1} C X^T \\vec{y} = C^{-1} (X^TX)^{-1}X^T\\vec{y} = C^{-1} \\vec{w}_{ML}\\\\\n",
    "\\; \\\\\n",
    "\\Rightarrow \\hat{\\vec{w}}_{ML} = C^{-1} \\vec{w}_{ML}\n",
    "$$"
   ]
  }
 ],
 "metadata": {
  "language_info": {
   "name": "python"
  }
 },
 "nbformat": 4,
 "nbformat_minor": 2
}
