{
 "cells": [
  {
   "cell_type": "markdown",
   "metadata": {},
   "source": [
    "## Bayesian Inference of Alarm Problem"
   ]
  },
  {
   "cell_type": "markdown",
   "metadata": {},
   "source": [
    "### Problem Statement \n",
    "\n",
    "Consider an the following Bayesian network:\n",
    "\n",
    "\n",
    "$$\n",
    "r \\; \\; \\; \\; \\; \\; e                      \\\\\n",
    "| \\; \\; \\; \\; / \\; \\; \\backslash           \\\\\n",
    "| \\; \\; \\; /  \\; \\; \\; \\backslash                          \\\\\n",
    "\\text{v} \\; \\; \\text{v} \\; \\; \\; \\; \\; \\text{v}                        \\\\\n",
    "\\alpha \\; \\; \\; \\; \\; \\; \\;a\n",
    "$$\n",
    "\n",
    "where $r$ is a robbery , $e$ is an earthquake, $a$ is radion eqrthquake alert and $\\alpha$ is an alarm $r, e, a, \\alpha \\in \\{0, 1\\}$ </br>\n",
    "This Bayesian network is defined by the following probabilities:\n",
    "* $ p(\\alpha = 0 | r=0, e=0) = 0$\n",
    "* $ p(\\alpha = 0 | r=0, e=0) = 0$\n",
    "* $ p(\\alpha = 0 | r = 1) = 1$\n",
    "* $ p(\\alpha = 0 | e = 1) = 0.1$\n",
    "* $ p(r = 1) = 10^{-4}$\n",
    "* $ p(e = 1) = 10^{-2}$\n",
    "* $ p(a = 0 | e = 1) = 1/2$\n",
    "* $ p(a = 0 | e = 0) = 0$\n",
    "\n",
    "\n",
    "With these probabilities calculate the following:\n",
    "1. $ p(r = 1 | \\alpha = 1)$ </li>\n",
    "2. $ p(r = 0 | \\alpha = 1, a = 1)$ </li>\n"
   ]
  },
  {
   "cell_type": "markdown",
   "metadata": {},
   "source": [
    "### Solution"
   ]
  },
  {
   "cell_type": "markdown",
   "metadata": {},
   "source": [
    "##### 1. $p(r = 1 | \\alpha = 1)$ </br> </br>\n",
    "First we calculate $p(\\alpha = 1)$:\n",
    "$$\n",
    "p(\\alpha = 1) = p(\\alpha = 1 | r = 0) p (r = 0) + p(\\alpha = 1 | r = 1) p (r = 1) = \\\\\n",
    "= // p(\\alpha = 1 | r = 0) = p(\\alpha = 1 | r = 0, e = 1) p(e = 1) + p(\\alpha = 1 | r = 0, e = 0) p(e = 0) = 10^{-3} // = \\\\\n",
    "= 10^{-3}(1 - 10^{-4}) + 10^{-4} \\approx 0,0011\n",
    "$$\n",
    "Now\n",
    "$$\n",
    "p(r = 1 | \\alpha = 1) = \\frac{p(\\alpha = 1 | r = 1) p(r = 1)}{p(\\alpha = 1)} \\approx \\frac{10^{-4}}{0,0011} \\approx \\frac{1}{11}\n",
    "$$"
   ]
  },
  {
   "cell_type": "markdown",
   "metadata": {},
   "source": [
    "##### 2. $p(r = 0 | \\alpha = 1, a = 1)$ </br> </br>\n",
    "First we calculate $p(a = 1)$ and $p(\\alpha = 1, a = 1)$\n",
    "$$\n",
    "p(a = 1) = p(a = 1 | e = 0)p(e = 0) + p(a = 1 | e = 1)p(e = 1) = 5*10^{-2} \\\\\n",
    "p(\\alpha = 1, a = 1) = p(\\alpha = 1, a = 1 | e = 1)p(e = 1) + p(\\alpha = 1, a = 1 | e = 0)p(e = 0) = // p(\\alpha = 1, a = 1 | e = 0) = 0 // = // p(\\alpha|e) \\text{ and } p(a|e) \\text{are independant} // = \\\\\n",
    "= p(\\alpha = 1 | e = 1)p(a = 1 | e = 1)p(e = 1) = 5*10^{-4}\n",
    "$$\n",
    "Now\n",
    "$$\n",
    "p(r = 1 | \\alpha = 1, a = 1) = \\frac{p(\\alpha = 1 | r = 1, a = 1) p(r = 1 | a = 1)}{p(\\alpha = 1 | a = 1)} = // p(r = 1 | a = 1) = p(r = 1) =  \\text{, since $r$ and $a$ are independant} // = \\\\ = \\frac{p(\\alpha = 1 | r = 1, a = 1) p(r = 1) p (a = 1)}{p(\\alpha = 1, a = 1)} = // p(\\alpha = 1 | r = 1, a = 1) = 1 // = 10^{-3} < p(r = 1 | \\alpha = 1)\n",
    "$$"
   ]
  }
 ],
 "metadata": {
  "kernelspec": {
   "display_name": "Python 3",
   "language": "python",
   "name": "python3"
  },
  "language_info": {
   "name": "python",
   "version": "3.11.5"
  }
 },
 "nbformat": 4,
 "nbformat_minor": 2
}
