{
 "cells": [
  {
   "cell_type": "markdown",
   "metadata": {},
   "source": [
    "# Independance of Random Variables Problem"
   ]
  },
  {
   "cell_type": "markdown",
   "metadata": {},
   "source": [
    "## Problem statement\n",
    "\n",
    "Given the following probabilites $p(a,b,c)$\n",
    "\n",
    "| a | b | c | $p(a,b,c)$ |\n",
    "| --- | --- | --- | --- |\n",
    "| 0 | 0 | 0 | 0.192 |\n",
    "| 0 | 0 | 1 | 0.144 |\n",
    "| 0 | 1 | 0 | 0.048 |\n",
    "| 0 | 1 | 1 | 0.216 |\n",
    "| 1 | 0 | 0 | 0.192 |\n",
    "| 1 | 0 | 1 | 0.064 |\n",
    "| 1 | 1 | 0 | 0.048 |\n",
    "| 1 | 1 | 1 | 0.096 |\n",
    "\n",
    "tell:\n",
    "1. if $a$ and $b$ are independent random variables\n",
    "1. if $a|c$ and $b|c$ are independent random varables"
   ]
  },
  {
   "cell_type": "markdown",
   "metadata": {},
   "source": [
    "## Solution"
   ]
  },
  {
   "cell_type": "code",
   "execution_count": 3,
   "metadata": {},
   "outputs": [],
   "source": [
    "import numpy as np\n",
    "\n",
    "p = np.zeros((2,2,2))\n",
    "p[0][0] = np.array([0.192, 0.144])\n",
    "p[0][1] = np.array([0.048, 0.216])\n",
    "p[1][0] = np.array([0.192, 0.064])\n",
    "p[1][1] = np.array([0.048, 0.096])"
   ]
  },
  {
   "cell_type": "markdown",
   "metadata": {},
   "source": [
    "### 1) a and b\n",
    "By definition random variables $a$ and $b$ are called independent if $\\forall a,b \\;$ $p(a,b) = p(a)p(b)$ <br>\n",
    "We calculate marginal distributions $p(a)$ and $p(b)$ as \n",
    "$$\n",
    "p(a) = \\sum_{b, c} p(a,b,c) \\\\\n",
    "p(b) = \\sum_{a, c} p(a,b,c)\n",
    "$$"
   ]
  },
  {
   "cell_type": "code",
   "execution_count": 4,
   "metadata": {},
   "outputs": [],
   "source": [
    "p_a = p.sum(axis = (1,2))\n",
    "p_b = p.sum(axis = (0,2))"
   ]
  },
  {
   "cell_type": "markdown",
   "metadata": {},
   "source": [
    "and joint distribution $p(a,b)$ as \n",
    "$$\n",
    "p(a,b) = \\sum_{c} p(a,b,c)\n",
    "$$"
   ]
  },
  {
   "cell_type": "code",
   "execution_count": 5,
   "metadata": {},
   "outputs": [],
   "source": [
    "p_ab = p.sum(axis = 2)"
   ]
  },
  {
   "cell_type": "markdown",
   "metadata": {},
   "source": [
    "And check if $\\forall a,b$ $p(a,b) = p(a)p(b)$"
   ]
  },
  {
   "cell_type": "code",
   "execution_count": 6,
   "metadata": {},
   "outputs": [
    {
     "data": {
      "text/plain": [
       "False"
      ]
     },
     "execution_count": 6,
     "metadata": {},
     "output_type": "execute_result"
    }
   ],
   "source": [
    "((p_a[:, None] *  p_b[None, :]) == p_ab).all()"
   ]
  },
  {
   "cell_type": "markdown",
   "metadata": {},
   "source": [
    "Therefore, $a$ and $b$ are not independent."
   ]
  },
  {
   "cell_type": "markdown",
   "metadata": {},
   "source": [
    "### 2) a|c and b|c\n",
    "By definition random variables $a$ and $b$ are called independent if $\\forall a,b,c \\;$ $p(a,b|c) = p(a|c)p(b|c)$ <br>\n",
    "We calculate marginal distributions $p(a|c)$ and $p(b|c)$ as \n",
    "$$\n",
    "p(a|c) = \\frac{p(a,c)}{p(c)} = \\frac{\\sum_{b} p(a,b,c)}{\\sum_{a,b} p(a,b,c)} \\\\\n",
    "p(b|c) = \\frac{p(b,c)}{p(c)} = \\frac{\\sum_{a} p(a,b,c)}{\\sum_{a,b} p(a,b,c)}\n",
    "$$"
   ]
  },
  {
   "cell_type": "code",
   "execution_count": 7,
   "metadata": {},
   "outputs": [],
   "source": [
    "p_a_c = p.sum(axis = 1)/p.sum(axis = (0,1))\n",
    "p_b_c = p.sum(axis = 0)/p.sum(axis = (0,1))"
   ]
  },
  {
   "cell_type": "markdown",
   "metadata": {},
   "source": [
    "and joint distribution $p(a,b)$ as \n",
    "$$\n",
    "p(a,b|c) = \\frac{p(a,b,c)}{p(c)} = \\frac{p(a,b,c)}{\\sum_{a,b} p(a,b,c)}\n",
    "$$"
   ]
  },
  {
   "cell_type": "code",
   "execution_count": 8,
   "metadata": {},
   "outputs": [],
   "source": [
    "p_ab_c = p / p.sum(axis = (0,1))"
   ]
  },
  {
   "cell_type": "markdown",
   "metadata": {},
   "source": [
    "and check if $\\forall a,b, c$ $p(a,b|c) = p(a|c)p(b|c)$"
   ]
  },
  {
   "cell_type": "code",
   "execution_count": 9,
   "metadata": {},
   "outputs": [
    {
     "data": {
      "text/plain": [
       "True"
      ]
     },
     "execution_count": 9,
     "metadata": {},
     "output_type": "execute_result"
    }
   ],
   "source": [
    "(p_a_c[:, None, :] * p_b_c [None, :, :] == p_ab_c).all()"
   ]
  },
  {
   "cell_type": "markdown",
   "metadata": {},
   "source": [
    "Therefore, $a|c$ and $b|c$ are independent."
   ]
  }
 ],
 "metadata": {
  "kernelspec": {
   "display_name": "Python 3",
   "language": "python",
   "name": "python3"
  },
  "language_info": {
   "codemirror_mode": {
    "name": "ipython",
    "version": 3
   },
   "file_extension": ".py",
   "mimetype": "text/x-python",
   "name": "python",
   "nbconvert_exporter": "python",
   "pygments_lexer": "ipython3",
   "version": "3.11.5"
  }
 },
 "nbformat": 4,
 "nbformat_minor": 2
}
