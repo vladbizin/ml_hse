{
 "cells": [
  {
   "cell_type": "markdown",
   "metadata": {},
   "source": [
    "# Exponential Family"
   ]
  },
  {
   "cell_type": "markdown",
   "metadata": {},
   "source": [
    "## Task 1"
   ]
  },
  {
   "cell_type": "markdown",
   "metadata": {},
   "source": [
    "### Statement\n",
    "* $p_\\theta(x) = h(x) \\exp [\\theta t(x) - a(\\theta)]$\n",
    "* $p_\\eta(x) = h(x) \\exp [\\eta t(x) - a(\\eta)]$  \n",
    "where $h(\\cdot)$, $t(\\cdot)$, and $a(\\cdot)$ are known functions.   \n",
    "Prove that $p_\\theta = p_\\eta$ a.s. $\\Rightarrow \\theta = \\eta$"
   ]
  },
  {
   "cell_type": "markdown",
   "metadata": {},
   "source": [
    "### Solution\n",
    "$$\n",
    "\n",
    "$$"
   ]
  },
  {
   "cell_type": "markdown",
   "metadata": {},
   "source": [
    "--in progress--"
   ]
  },
  {
   "cell_type": "markdown",
   "metadata": {},
   "source": [
    "## Task 2"
   ]
  },
  {
   "cell_type": "markdown",
   "metadata": {},
   "source": [
    "### Statement\n",
    "Provide an example of parametric distribution that does not belong to exponential family and prove it."
   ]
  },
  {
   "cell_type": "markdown",
   "metadata": {},
   "source": [
    "### Solution"
   ]
  },
  {
   "cell_type": "markdown",
   "metadata": {},
   "source": [
    "According to the definition, $p_\\theta$ belongs to exponential family if  \n",
    "\n",
    "* $ \\text{supp} (p_\\theta(\\vec{x}))$ does not depend on $\\theta$\n",
    "* $p_\\theta(\\vec{x}) = h(\\vec{x}) \\exp \\big[ \\vec{\\eta}^T(\\vec{\\theta}) \\vec{t}(\\vec{x}) - a(\\vec{\\theta})\\big]$  \n",
    "\n",
    "Therefore, any parametric distribution with support depending on parameters does not belong to exponential family, for example $\\mathbb{U}_{\\theta, \\eta}$ with $\\text{supp} = [-\\theta, \\eta]$"
   ]
  },
  {
   "cell_type": "markdown",
   "metadata": {},
   "source": [
    "## Task 3"
   ]
  },
  {
   "cell_type": "markdown",
   "metadata": {},
   "source": [
    "### Statement\n",
    "For Gamma distribution with fixed $\\alpha$:\n",
    "* find maximum likelihood estimation of $\\beta$\n",
    "* find conjugate prior distrtibution\n",
    "* find posterior distribution"
   ]
  },
  {
   "cell_type": "markdown",
   "metadata": {},
   "source": [
    "### Solution"
   ]
  },
  {
   "cell_type": "markdown",
   "metadata": {},
   "source": [
    "#### Maximum likelihood estimation of $\\beta$\n",
    "First we show that gamma distribution belongs to exponential family  \n",
    "$$\n",
    "p(x | \\beta) = \\frac{x^{\\alpha-1} e^{-\\beta x} \\beta^{\\alpha}}{\\Gamma(\\alpha)} = \\frac{1_{x>0} x^{\\alpha-1} }{\\Gamma(\\alpha)} \\exp[-\\beta x + \\alpha \\log(\\beta)] \\Rightarrow \\\\\n",
    "\\; \\\\\n",
    "p(x | \\beta) = h(x) \\exp[\\eta(\\beta) t(x) - a(\\beta)], \\\\\n",
    "\\; \\\\\n",
    "h(x) = \\frac{1_{x>0} x^{\\alpha-1}}{\\Gamma(\\alpha)}, \\\\\n",
    "\\; \\\\\n",
    "\\eta(\\beta) = -\\beta\\\\\n",
    "\\; \\\\\n",
    "t(x) = x\\\\\n",
    "\\; \\\\\n",
    "a(\\beta) = - \\alpha \\log(\\beta)\n",
    "$$"
   ]
  },
  {
   "cell_type": "markdown",
   "metadata": {},
   "source": [
    "Now we can use properties of parametric distributions from exponential family:  \n",
    "$$\n",
    "\\log p (x_1, \\dots, x_n | \\theta) = \\sum_{i=1}^{n} \\log h(x_i) + \\eta(\\theta) \\Big(\\sum_{i=1}^{n}t(x_i)\\Big) - na(\\theta)\n",
    "$$  \n",
    "Now to find maximum likelihood estimation we take derivative of the probability w.r.t. $\\theta$ and equate to zero:  \n",
    "$$\n",
    "n \\frac{\\partial a(\\theta)}{\\partial \\theta}  = \\Big(\\sum_{i=1}^{n}\\vec{t}(x_i)\\Big) \\frac{\\partial \\eta(\\theta)}{\\partial \\theta}\n",
    "$$  \n",
    "In our case:  \n",
    "$$\n",
    "n \\frac{\\alpha}{\\beta} = \\sum_{i=1}^{n} x_i\n",
    "$$  \n",
    "From heremaximum likelihood estimation of $\\beta$ is  \n",
    "$$\n",
    "\\underline{\\beta_{ML} = \\frac{\\alpha}{\\frac{1}{n} \\sum_{i=1}^{n} x_i } = \\frac{\\alpha}{\\overline{x}}}\n",
    "$$"
   ]
  },
  {
   "cell_type": "markdown",
   "metadata": {},
   "source": [
    "#### Conjugate prior distrtibution"
   ]
  },
  {
   "cell_type": "markdown",
   "metadata": {},
   "source": [
    "For distributions from exponential family conjugate prior looks the following way  \n",
    "$$\n",
    "p(\\theta | \\chi, \\nu) = \\text{const}(\\chi, \\nu) \\exp [\\chi \\eta(\\theta) - \\nu a(\\theta)],\n",
    "$$  \n",
    "which in our case gives us  \n",
    "$$\n",
    "p(\\beta | \\chi, \\nu) \\sim \\exp [ - \\chi \\beta + \\nu \\alpha \\log(\\beta) ] \\sim \\beta^{\\nu \\alpha} e^{-\\chi \\beta}\n",
    "$$  \n",
    "From here it is clearly seen that prior distribution of $\\beta$ is Gamma distribution:  \n",
    "$$\n",
    "\\underline{p(\\beta | \\alpha_0, \\beta_0) = \\frac{\\beta^{\\alpha_0-1} e^{-\\beta_0 \\beta} \\beta_0^{\\alpha_0}}{\\Gamma(\\alpha_0)}}\n",
    "$$"
   ]
  },
  {
   "cell_type": "markdown",
   "metadata": {},
   "source": [
    "#### Posterior distribution"
   ]
  },
  {
   "cell_type": "markdown",
   "metadata": {},
   "source": [
    "To find posterior distribution we should simply calculate  \n",
    "$$\n",
    "p(\\beta | D, \\alpha_0, \\beta_0) \\sim p(\\beta | \\alpha_0, \\beta_0) p(D | \\beta, \\alpha_0, \\beta_0),\n",
    "$$  \n",
    "where $p(D | \\beta, \\alpha_0, \\beta_0)$ is just likelihood of the dataset  \n",
    "$$\n",
    "\\log p(\\beta | D, \\alpha_0, \\beta_0) = \\log p(\\beta | \\alpha_0, \\beta_0) + \\log p(D | \\beta, \\alpha_0, \\beta_0) + \\text{const} = \\sum_{i=1}^{n} \\log p(x_i | \\beta, \\alpha_0, \\beta_0) + \\log p(\\beta | \\alpha_0, \\beta_0) = \\\\\n",
    "\\; \\\\\n",
    "= \\Bigg[ \\sum_{i=1}^{n} \\Big( \\log h(x_i) + (\\alpha-1) \\log x_i - \\beta x_i \\Big) + n \\alpha \\log \\beta \\Bigg] + \\log \\frac{1_{\\beta > 0}}{\\Gamma(\\alpha_0)} + (\\alpha_0-1) \\log \\beta - \\beta_0 \\beta + \\alpha_0 \\log \\beta_0 = \\\\\n",
    "\\; \\\\\n",
    "= \\text{const} + \\log 1_{\\beta > 0} + \\big( (\\alpha_0 + n \\alpha) - 1 \\big) \\log \\beta - \\beta \\Big( \\beta_0 + \\sum_{i=1}^{n} x_i \\Big) \\Rightarrow \\\\\n",
    "\\; \\\\\n",
    "\\Rightarrow \\underline{p(\\beta | D, \\alpha_0, \\beta_0) = \\text{Gamma} \\Big( \\alpha_0 + n \\alpha, \\beta_0 + \\sum_{i=1}^{n} x_i \\Big)}\n",
    "$$"
   ]
  }
 ],
 "metadata": {
  "kernelspec": {
   "display_name": "Python 3",
   "language": "python",
   "name": "python3"
  },
  "language_info": {
   "codemirror_mode": {
    "name": "ipython",
    "version": 3
   },
   "file_extension": ".py",
   "mimetype": "text/x-python",
   "name": "python",
   "nbconvert_exporter": "python",
   "pygments_lexer": "ipython3",
   "version": "3.11.5"
  }
 },
 "nbformat": 4,
 "nbformat_minor": 2
}
